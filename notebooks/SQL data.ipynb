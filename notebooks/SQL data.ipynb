{
 "cells": [
  {
   "cell_type": "markdown",
   "metadata": {},
   "source": [
    "# Lookup data from SQL server"
   ]
  },
  {
   "cell_type": "code",
   "execution_count": null,
   "metadata": {},
   "outputs": [],
   "source": [
    "import pymysql\n",
    "import numpy as np\n",
    "import pandas as pd\n",
    "from getpass import getpass\n",
    "from emonitor.tools import live\n",
    "# ploting\n",
    "from bokeh.io import show, output_notebook\n",
    "from bokeh.plotting import figure\n",
    "from bokeh.palettes import Category10\n",
    "colors = Category10[10]\n",
    "output_notebook()"
   ]
  },
  {
   "cell_type": "code",
   "execution_count": null,
   "metadata": {},
   "outputs": [],
   "source": [
    "# SQL server settings\n",
    "sql_settings = {\"host\":\"127.0.0.1\", \"port\":3306, \"user\":\"e11\", \"database\":\"emonitor\"}\n",
    "sql_settings['password'] = getpass(prompt=f\"enter password for {sql_settings['user']}@{sql_settings['host']} :\")"
   ]
  },
  {
   "cell_type": "markdown",
   "metadata": {},
   "source": [
    "## Live data"
   ]
  },
  {
   "cell_type": "code",
   "execution_count": null,
   "metadata": {},
   "outputs": [],
   "source": [
    "# time range\n",
    "delta = {\"hours\": 12}\n",
    "\n",
    "# data\n",
    "table = 'fake'\n",
    "conn = pymysql.connect(**sql_settings)\n",
    "df = live(conn, delta, table=table, tz='Europe/Berlin')\n",
    "conn.close()\n",
    "\n",
    "# figure\n",
    "fig = figure(plot_height=300, plot_width=500,\n",
    "             x_axis_type=\"datetime\", y_axis_type=\"log\")\n",
    "\n",
    "# plotting\n",
    "tvals = df.index.tz_localize(None)\n",
    "for i, col in enumerate(df.columns):\n",
    "    fig.line(tvals, df[col], line_color=colors[i], legend_label=col)\n",
    "\n",
    "# format\n",
    "fig.yaxis.axis_label = \"temperature (K)\"\n",
    "fig.legend.click_policy=\"hide\"\n",
    "show(fig)"
   ]
  },
  {
   "cell_type": "code",
   "execution_count": null,
   "metadata": {},
   "outputs": [],
   "source": []
  }
 ],
 "metadata": {
  "kernelspec": {
   "display_name": "Python 3",
   "language": "python",
   "name": "python3"
  },
  "language_info": {
   "codemirror_mode": {
    "name": "ipython",
    "version": 3
   },
   "file_extension": ".py",
   "mimetype": "text/x-python",
   "name": "python",
   "nbconvert_exporter": "python",
   "pygments_lexer": "ipython3",
   "version": "3.7.4"
  }
 },
 "nbformat": 4,
 "nbformat_minor": 2
}
