{
 "cells": [
  {
   "cell_type": "markdown",
   "metadata": {},
   "source": [
    "# Plot sensor data from text file"
   ]
  },
  {
   "cell_type": "code",
   "execution_count": null,
   "metadata": {},
   "outputs": [],
   "source": [
    "# packages\n",
    "import os\n",
    "import numpy as np\n",
    "import pandas as pd\n",
    "# ploting\n",
    "from bokeh.io import show, output_notebook\n",
    "from bokeh.plotting import figure\n",
    "from bokeh.palettes import Category10\n",
    "colors = Category10[10]\n",
    "output_notebook()"
   ]
  },
  {
   "cell_type": "markdown",
   "metadata": {},
   "source": [
    "## read delimited text file"
   ]
  },
  {
   "cell_type": "code",
   "execution_count": null,
   "metadata": {},
   "outputs": [],
   "source": [
    "fil = os.path.join(\"/home/adam/\", \"cryo_test_001_Mar_2018.dat\")\n",
    "if os.path.exists(fil):\n",
    "    print(fil)\n",
    "else:\n",
    "    raise Exception(\"file not found\")"
   ]
  },
  {
   "cell_type": "code",
   "execution_count": null,
   "metadata": {},
   "outputs": [],
   "source": [
    "tcol = \"TIMESTAMP\"\n",
    "df = pd.read_csv(fil, parse_dates=[tcol]).set_index(tcol)\n",
    "df.head()"
   ]
  },
  {
   "cell_type": "markdown",
   "metadata": {},
   "source": [
    "## plot data"
   ]
  },
  {
   "cell_type": "code",
   "execution_count": null,
   "metadata": {},
   "outputs": [],
   "source": [
    "# figure\n",
    "fig = figure(plot_height=300, plot_width=500, x_axis_type=\"datetime\")\n",
    "\n",
    "# plotting\n",
    "for i, col in enumerate(df.columns):\n",
    "    fig.line(df.index, df[col], line_color=colors[i], legend=col)\n",
    "\n",
    "# format\n",
    "fig.yaxis.axis_label = \"temperature (K)\"\n",
    "fig.legend.click_policy=\"hide\"\n",
    "show(fig)"
   ]
  },
  {
   "cell_type": "code",
   "execution_count": null,
   "metadata": {
    "collapsed": true
   },
   "outputs": [],
   "source": []
  }
 ],
 "metadata": {
  "kernelspec": {
   "display_name": "Python 3",
   "language": "python",
   "name": "python3"
  },
  "language_info": {
   "codemirror_mode": {
    "name": "ipython",
    "version": 3
   },
   "file_extension": ".py",
   "mimetype": "text/x-python",
   "name": "python",
   "nbconvert_exporter": "python",
   "pygments_lexer": "ipython3",
   "version": "3.6.2"
  }
 },
 "nbformat": 4,
 "nbformat_minor": 2
}
