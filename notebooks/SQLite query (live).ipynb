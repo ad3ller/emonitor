{
 "cells": [
  {
   "cell_type": "markdown",
   "metadata": {},
   "source": [
    "# Vacuum pressures (live)"
   ]
  },
  {
   "cell_type": "code",
   "execution_count": null,
   "metadata": {},
   "outputs": [],
   "source": [
    "# packages\n",
    "import os\n",
    "import datetime\n",
    "import sqlite3\n",
    "from emonitor.tools import db_path, tquery\n",
    "# ploting\n",
    "from bokeh.io import show, output_notebook\n",
    "from bokeh.plotting import figure\n",
    "from bokeh.palettes import Category10\n",
    "colors = Category10[10]\n",
    "output_notebook()"
   ]
  },
  {
   "cell_type": "markdown",
   "metadata": {},
   "source": [
    "## SQLite query\n",
    "\n",
    "Load the databse file and submit a query for all data taken in the past 3 hours.  Returns a pandas.DataFrame."
   ]
  },
  {
   "cell_type": "code",
   "execution_count": null,
   "metadata": {},
   "outputs": [],
   "source": [
    "# database file\n",
    "name = \"pressure\"\n",
    "fil = db_path(name)\n",
    "if not os.path.exists(fil):\n",
    "    raise Exception(\"sqlite file not found\")\n",
    "    \n",
    "# time range\n",
    "delta = datetime.timedelta(hours=3)\n",
    "\n",
    "# data\n",
    "conn = sqlite3.connect(fil)\n",
    "df = tquery(conn, delta=delta, dropna=False)\n",
    "conn.close()\n",
    "df.tail()"
   ]
  },
  {
   "cell_type": "markdown",
   "metadata": {},
   "source": [
    "## Plotting\n",
    "\n",
    "Use Bokeh to create an interactive plot of the pressure data."
   ]
  },
  {
   "cell_type": "code",
   "execution_count": null,
   "metadata": {},
   "outputs": [],
   "source": [
    "# figure\n",
    "fig = figure(plot_height=300, plot_width=500,\n",
    "             x_axis_type=\"datetime\", y_axis_type=\"log\")\n",
    "\n",
    "# data\n",
    "for i, col in enumerate(['1', '2', '3']):\n",
    "    fig.line(df.index, df[col], line_color=colors[i], legend=col)\n",
    "\n",
    "# format\n",
    "fig.yaxis.axis_label = \"pressure (mbar)\"\n",
    "fig.legend.location = \"bottom_left\"\n",
    "fig.legend.click_policy=\"hide\"\n",
    "show(fig)"
   ]
  },
  {
   "cell_type": "code",
   "execution_count": null,
   "metadata": {
    "collapsed": true
   },
   "outputs": [],
   "source": []
  }
 ],
 "metadata": {
  "kernelspec": {
   "display_name": "Python 3",
   "language": "python",
   "name": "python3"
  },
  "language_info": {
   "codemirror_mode": {
    "name": "ipython",
    "version": 3
   },
   "file_extension": ".py",
   "mimetype": "text/x-python",
   "name": "python",
   "nbconvert_exporter": "python",
   "pygments_lexer": "ipython3",
   "version": "3.6.2"
  }
 },
 "nbformat": 4,
 "nbformat_minor": 2
}
