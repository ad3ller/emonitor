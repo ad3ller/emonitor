{
 "cells": [
  {
   "cell_type": "markdown",
   "metadata": {},
   "source": [
    "# Lookup data from SQLite emonitor database"
   ]
  },
  {
   "cell_type": "code",
   "execution_count": null,
   "metadata": {},
   "outputs": [],
   "source": [
    "# packages\n",
    "import os\n",
    "import sqlite3\n",
    "from emonitor.tools import db_path, history, live\n",
    "# ploting\n",
    "from bokeh.io import show, output_notebook\n",
    "from bokeh.plotting import figure\n",
    "from bokeh.palettes import Category10\n",
    "colors = Category10[10]\n",
    "output_notebook()"
   ]
  },
  {
   "cell_type": "markdown",
   "metadata": {},
   "source": [
    "## SQLite database file"
   ]
  },
  {
   "cell_type": "code",
   "execution_count": null,
   "metadata": {},
   "outputs": [],
   "source": [
    "# file\n",
    "name = \"pressure_2018\"\n",
    "fil = db_path(name)\n",
    "if os.path.exists(fil):\n",
    "    print(fil)\n",
    "else:\n",
    "    raise Exception(\"sqlite file not found\")"
   ]
  },
  {
   "cell_type": "markdown",
   "metadata": {},
   "source": [
    "Queries are submitted to the database using `emonitor.tools.history()` or `emonitor.tools.live()`."
   ]
  },
  {
   "cell_type": "markdown",
   "metadata": {},
   "source": [
    "## Live data\n",
    "\n",
    "Load the databse file and submit a query for all data taken in the past 12 hours.  Returns a `pandas.DataFrame()`. \n",
    "\n",
    "Use Bokeh to create an interactive plot of the pressure data."
   ]
  },
  {
   "cell_type": "code",
   "execution_count": null,
   "metadata": {},
   "outputs": [],
   "source": [
    "# time range\n",
    "delta = {\"hours\":2}\n",
    "\n",
    "# data\n",
    "conn = sqlite3.connect(fil)\n",
    "df = live(conn, delta)\n",
    "conn.close()\n",
    "\n",
    "# figure\n",
    "fig = figure(plot_height=300, plot_width=500,\n",
    "             x_axis_type=\"datetime\", y_axis_type=\"log\")\n",
    "\n",
    "# plotting\n",
    "for i, col in enumerate(df.columns):\n",
    "    fig.line(df.index, df[col], line_color=colors[i], legend=col)\n",
    "\n",
    "# format\n",
    "fig.yaxis.axis_label = \"pressure (mbar)\"\n",
    "fig.legend.click_policy=\"hide\"\n",
    "show(fig)"
   ]
  },
  {
   "cell_type": "markdown",
   "metadata": {
    "collapsed": true
   },
   "source": [
    "## History lookup\n",
    "\n",
    "Submit a query for data in a given time range."
   ]
  },
  {
   "cell_type": "code",
   "execution_count": null,
   "metadata": {},
   "outputs": [],
   "source": [
    "# datetime range\n",
    "start = (2018, 1, 10)\n",
    "end = (2019, 3, 28)\n",
    "\n",
    "# data\n",
    "conn = sqlite3.connect(fil)\n",
    "df2 = history(conn, start, end)\n",
    "conn.close()\n",
    "\n",
    "# figure\n",
    "fig = figure(plot_height=300, plot_width=500,\n",
    "             x_axis_type=\"datetime\", y_axis_type=\"log\")\n",
    "\n",
    "# plotting\n",
    "for i, col in enumerate(df2.columns):\n",
    "    fig.line(df2.index, df2[col], line_color=colors[i], legend=col)\n",
    "\n",
    "# format\n",
    "fig.yaxis.axis_label = \"pressure (mbar)\"\n",
    "fig.legend.click_policy=\"hide\"\n",
    "show(fig)"
   ]
  },
  {
   "cell_type": "code",
   "execution_count": null,
   "metadata": {},
   "outputs": [],
   "source": []
  }
 ],
 "metadata": {
  "kernelspec": {
   "display_name": "Python 3",
   "language": "python",
   "name": "python3"
  },
  "language_info": {
   "codemirror_mode": {
    "name": "ipython",
    "version": 3
   },
   "file_extension": ".py",
   "mimetype": "text/x-python",
   "name": "python",
   "nbconvert_exporter": "python",
   "pygments_lexer": "ipython3",
   "version": "3.7.1"
  }
 },
 "nbformat": 4,
 "nbformat_minor": 2
}
