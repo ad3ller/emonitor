{
 "cells": [
  {
   "cell_type": "markdown",
   "metadata": {},
   "source": [
    "# Timezones\n",
    "\n",
    "From version 0.3.0 data is always stored with UTC timestamps."
   ]
  },
  {
   "cell_type": "code",
   "execution_count": 1,
   "metadata": {},
   "outputs": [],
   "source": [
    "# packages\n",
    "import os\n",
    "import sqlite3\n",
    "import datetime\n",
    "import pytz\n",
    "from emonitor.tools import db_path, history, live"
   ]
  },
  {
   "cell_type": "markdown",
   "metadata": {},
   "source": [
    "## SQLite database file"
   ]
  },
  {
   "cell_type": "code",
   "execution_count": 2,
   "metadata": {},
   "outputs": [
    {
     "name": "stdout",
     "output_type": "stream",
     "text": [
      "/home/adam/.emonitor/data/fake.db\n"
     ]
    }
   ],
   "source": [
    "# file\n",
    "name = \"fake\"\n",
    "fil = db_path(name)\n",
    "if os.path.exists(fil):\n",
    "    print(fil)\n",
    "else:\n",
    "    raise Exception(\"sqlite file not found\")"
   ]
  },
  {
   "cell_type": "markdown",
   "metadata": {},
   "source": [
    "Queries submitted without timezone information are assumed to be UTC."
   ]
  },
  {
   "cell_type": "code",
   "execution_count": 3,
   "metadata": {},
   "outputs": [
    {
     "data": {
      "text/plain": [
       "DatetimeIndex(['2020-03-26 15:00:04+00:00', '2020-03-26 15:00:09+00:00',\n",
       "               '2020-03-26 15:00:14+00:00', '2020-03-26 15:00:19+00:00',\n",
       "               '2020-03-26 15:00:24+00:00', '2020-03-26 15:00:29+00:00',\n",
       "               '2020-03-26 15:00:34+00:00', '2020-03-26 15:00:39+00:00',\n",
       "               '2020-03-26 15:00:44+00:00', '2020-03-26 15:00:49+00:00',\n",
       "               ...\n",
       "               '2020-03-26 16:52:17+00:00', '2020-03-26 16:52:22+00:00',\n",
       "               '2020-03-26 16:52:27+00:00', '2020-03-26 16:52:32+00:00',\n",
       "               '2020-03-26 16:52:37+00:00', '2020-03-26 16:52:42+00:00',\n",
       "               '2020-03-26 16:52:47+00:00', '2020-03-26 16:52:52+00:00',\n",
       "               '2020-03-26 16:52:57+00:00', '2020-03-26 16:53:02+00:00'],\n",
       "              dtype='datetime64[ns, UTC]', name='TIMESTAMP', length=1342, freq=None)"
      ]
     },
     "execution_count": 3,
     "metadata": {},
     "output_type": "execute_result"
    }
   ],
   "source": [
    "# UTC datetime range\n",
    "start = (2020, 3, 26, 15, 0)\n",
    "end = (2020, 3, 26, 18, 0)\n",
    "\n",
    "# data\n",
    "conn = sqlite3.connect(fil)\n",
    "df1 = history(conn, start, end)\n",
    "conn.close()\n",
    "\n",
    "df1.index"
   ]
  },
  {
   "cell_type": "markdown",
   "metadata": {},
   "source": [
    "You can manually specify the timezone of the start / end timestamps. "
   ]
  },
  {
   "cell_type": "code",
   "execution_count": 4,
   "metadata": {},
   "outputs": [],
   "source": [
    "end = datetime.datetime.now()\n",
    "end = end.astimezone(pytz.timezone('CET'))\n",
    "start = end - datetime.timedelta(minutes=15)\n",
    "\n",
    "# data\n",
    "conn = sqlite3.connect(fil)\n",
    "df2 = history(conn, start, end)\n",
    "conn.close()"
   ]
  },
  {
   "cell_type": "code",
   "execution_count": 5,
   "metadata": {},
   "outputs": [
    {
     "data": {
      "text/plain": [
       "DatetimeIndex(['2020-03-26 16:38:08+00:00', '2020-03-26 16:38:13+00:00',\n",
       "               '2020-03-26 16:38:18+00:00', '2020-03-26 16:38:23+00:00',\n",
       "               '2020-03-26 16:38:28+00:00', '2020-03-26 16:38:33+00:00',\n",
       "               '2020-03-26 16:38:38+00:00', '2020-03-26 16:38:43+00:00',\n",
       "               '2020-03-26 16:38:48+00:00', '2020-03-26 16:38:53+00:00',\n",
       "               ...\n",
       "               '2020-03-26 16:52:17+00:00', '2020-03-26 16:52:22+00:00',\n",
       "               '2020-03-26 16:52:27+00:00', '2020-03-26 16:52:32+00:00',\n",
       "               '2020-03-26 16:52:37+00:00', '2020-03-26 16:52:42+00:00',\n",
       "               '2020-03-26 16:52:47+00:00', '2020-03-26 16:52:52+00:00',\n",
       "               '2020-03-26 16:52:57+00:00', '2020-03-26 16:53:02+00:00'],\n",
       "              dtype='datetime64[ns, UTC]', name='TIMESTAMP', length=178, freq=None)"
      ]
     },
     "execution_count": 5,
     "metadata": {},
     "output_type": "execute_result"
    }
   ],
   "source": [
    "df2.index"
   ]
  },
  {
   "cell_type": "markdown",
   "metadata": {},
   "source": [
    "However, the it is simpler to explicitly specify the timezone code in the query.  This also adjusts the result."
   ]
  },
  {
   "cell_type": "code",
   "execution_count": 6,
   "metadata": {},
   "outputs": [],
   "source": [
    "start = '2020-03-26 15:25:29'\n",
    "end = '2020-03-26 17:52:29'\n",
    "\n",
    "# data\n",
    "conn = sqlite3.connect(fil)\n",
    "df3 = history(conn, start, end, tz='Europe/Berlin')\n",
    "conn.close()"
   ]
  },
  {
   "cell_type": "code",
   "execution_count": 7,
   "metadata": {},
   "outputs": [
    {
     "data": {
      "text/plain": [
       "DatetimeIndex(['2020-03-26 15:25:34+01:00', '2020-03-26 15:25:39+01:00',\n",
       "               '2020-03-26 15:25:44+01:00', '2020-03-26 15:25:49+01:00',\n",
       "               '2020-03-26 15:25:54+01:00', '2020-03-26 15:25:59+01:00',\n",
       "               '2020-03-26 15:26:04+01:00', '2020-03-26 15:26:09+01:00',\n",
       "               '2020-03-26 15:26:14+01:00', '2020-03-26 15:26:19+01:00',\n",
       "               ...\n",
       "               '2020-03-26 17:51:41+01:00', '2020-03-26 17:51:46+01:00',\n",
       "               '2020-03-26 17:51:52+01:00', '2020-03-26 17:51:57+01:00',\n",
       "               '2020-03-26 17:52:02+01:00', '2020-03-26 17:52:07+01:00',\n",
       "               '2020-03-26 17:52:12+01:00', '2020-03-26 17:52:17+01:00',\n",
       "               '2020-03-26 17:52:22+01:00', '2020-03-26 17:52:27+01:00'],\n",
       "              dtype='datetime64[ns, Europe/Berlin]', name='TIMESTAMP', length=1745, freq=None)"
      ]
     },
     "execution_count": 7,
     "metadata": {},
     "output_type": "execute_result"
    }
   ],
   "source": [
    "df3.index"
   ]
  },
  {
   "cell_type": "markdown",
   "metadata": {},
   "source": [
    "Some plotting tools force timezone-aware data to UTC (bokeh).  \n",
    "\n",
    "In this event, use `tz_localize()` to convert timezone adjusted values to timezone-unaware values."
   ]
  },
  {
   "cell_type": "code",
   "execution_count": 8,
   "metadata": {},
   "outputs": [
    {
     "data": {
      "text/plain": [
       "DatetimeIndex(['2020-03-26 15:25:34', '2020-03-26 15:25:39',\n",
       "               '2020-03-26 15:25:44', '2020-03-26 15:25:49',\n",
       "               '2020-03-26 15:25:54', '2020-03-26 15:25:59',\n",
       "               '2020-03-26 15:26:04', '2020-03-26 15:26:09',\n",
       "               '2020-03-26 15:26:14', '2020-03-26 15:26:19',\n",
       "               ...\n",
       "               '2020-03-26 17:51:41', '2020-03-26 17:51:46',\n",
       "               '2020-03-26 17:51:52', '2020-03-26 17:51:57',\n",
       "               '2020-03-26 17:52:02', '2020-03-26 17:52:07',\n",
       "               '2020-03-26 17:52:12', '2020-03-26 17:52:17',\n",
       "               '2020-03-26 17:52:22', '2020-03-26 17:52:27'],\n",
       "              dtype='datetime64[ns]', name='TIMESTAMP', length=1745, freq=None)"
      ]
     },
     "execution_count": 8,
     "metadata": {},
     "output_type": "execute_result"
    }
   ],
   "source": [
    "df3.index.tz_localize(None)"
   ]
  },
  {
   "cell_type": "code",
   "execution_count": null,
   "metadata": {},
   "outputs": [],
   "source": []
  }
 ],
 "metadata": {
  "kernelspec": {
   "display_name": "Python 3",
   "language": "python",
   "name": "python3"
  },
  "language_info": {
   "codemirror_mode": {
    "name": "ipython",
    "version": 3
   },
   "file_extension": ".py",
   "mimetype": "text/x-python",
   "name": "python",
   "nbconvert_exporter": "python",
   "pygments_lexer": "ipython3",
   "version": "3.7.4"
  }
 },
 "nbformat": 4,
 "nbformat_minor": 2
}
